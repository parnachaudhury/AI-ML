{
 "cells": [
  {
   "cell_type": "code",
   "execution_count": 6,
   "metadata": {},
   "outputs": [
    {
     "name": "stdout",
     "output_type": "stream",
     "text": [
      "            model   mpg  cyl   disp\n",
      "0       Mazda RX4  21.0    6  160.0\n",
      "1   Mazda RX4 Wag  21.0    6  160.0\n",
      "2      Datsun 710  22.8    4  108.0\n",
      "3  Hornet 4 Drive  21.4    6  258.0\n"
     ]
    }
   ],
   "source": [
    "#Task1\n",
    "import pandas as pd\n",
    "mtcars = pd.read_csv('D:\\parna\\VIT\\AI ML internship\\mtcars.csv') \n",
    "df = mtcars.iloc[:4, :4]\n",
    "print(df)"
   ]
  },
  {
   "cell_type": "code",
   "execution_count": 7,
   "metadata": {},
   "outputs": [
    {
     "name": "stdout",
     "output_type": "stream",
     "text": [
      "   Random value 1  Random value 2  Random value 3  Random value 4\n",
      "0       Mazda RX4            21.0               6           160.0\n",
      "1   Mazda RX4 Wag            21.0               6           160.0\n",
      "2      Datsun 710            22.8               4           108.0\n",
      "3  Hornet 4 Drive            21.4               6           258.0\n"
     ]
    }
   ],
   "source": [
    "#Task2\n",
    "df = df.rename(columns={\n",
    "    'model': 'Random value 1',\n",
    "    'mpg': 'Random value 2',\n",
    "    'cyl': 'Random value 3',\n",
    "    'disp': 'Random value 4'\n",
    "})\n",
    "print(df)"
   ]
  },
  {
   "cell_type": "code",
   "execution_count": 8,
   "metadata": {},
   "outputs": [
    {
     "name": "stdout",
     "output_type": "stream",
     "text": [
      "       Random value 2  Random value 3  Random value 4\n",
      "count          4.0000             4.0        4.000000\n",
      "mean          21.5500             5.5      171.500000\n",
      "std            0.8544             1.0       62.660461\n",
      "min           21.0000             4.0      108.000000\n",
      "25%           21.0000             5.5      147.000000\n",
      "50%           21.2000             6.0      160.000000\n",
      "75%           21.7500             6.0      184.500000\n",
      "max           22.8000             6.0      258.000000\n"
     ]
    }
   ],
   "source": [
    "#Task3\n",
    "descriptive_stats = df.describe()\n",
    "print(descriptive_stats)"
   ]
  },
  {
   "cell_type": "code",
   "execution_count": 9,
   "metadata": {},
   "outputs": [
    {
     "name": "stdout",
     "output_type": "stream",
     "text": [
      "Null Values:\n",
      " Random value 1    0\n",
      "Random value 2    0\n",
      "Random value 3    0\n",
      "Random value 4    0\n",
      "dtype: int64\n",
      "\n",
      "Data Types: Random value 1     object\n",
      "Random value 2    float64\n",
      "Random value 3      int64\n",
      "Random value 4    float64\n",
      "dtype: object\n"
     ]
    }
   ],
   "source": [
    "#Task4\n",
    "null_values = df.isnull().sum()\n",
    "print(\"Null Values:\\n\", null_values)\n",
    "data_types = df.dtypes\n",
    "print(\"\\nData Types:\", data_types)"
   ]
  },
  {
   "cell_type": "code",
   "execution_count": 10,
   "metadata": {},
   "outputs": [
    {
     "name": "stdout",
     "output_type": "stream",
     "text": [
      "Using loc[] method - 'Random value 2':\n",
      " 0    21.0\n",
      "1    21.0\n",
      "2    22.8\n",
      "3    21.4\n",
      "Name: Random value 2, dtype: float64\n",
      "\n",
      "Using loc[] method - 'Random value 3':\n",
      " 0    6\n",
      "1    6\n",
      "2    4\n",
      "3    6\n",
      "Name: Random value 3, dtype: int64\n",
      "\n",
      "Using iloc[] method - 'Random value 2':\n",
      " 0    21.0\n",
      "1    21.0\n",
      "2    22.8\n",
      "3    21.4\n",
      "Name: Random value 2, dtype: float64\n",
      "\n",
      "Using iloc[] method - 'Random value 3':\n",
      " 0    6\n",
      "1    6\n",
      "2    4\n",
      "3    6\n",
      "Name: Random value 3, dtype: int64\n"
     ]
    }
   ],
   "source": [
    "#Task5\n",
    "# Using location method\n",
    "random_value_2_loc = df.loc[:, 'Random value 2']\n",
    "random_value_3_loc = df.loc[:, 'Random value 3']\n",
    "print(\"Using loc[] method - 'Random value 2':\\n\", random_value_2_loc)\n",
    "print(\"\\nUsing loc[] method - 'Random value 3':\\n\", random_value_3_loc)\n",
    "# Using index location method\n",
    "random_value_2_iloc = df.iloc[:, 1]\n",
    "random_value_3_iloc = df.iloc[:, 2]\n",
    "print(\"\\nUsing iloc[] method - 'Random value 2':\\n\", random_value_2_iloc)\n",
    "print(\"\\nUsing iloc[] method - 'Random value 3':\\n\", random_value_3_iloc)"
   ]
  },
  {
   "cell_type": "code",
   "execution_count": null,
   "metadata": {},
   "outputs": [],
   "source": []
  }
 ],
 "metadata": {
  "kernelspec": {
   "display_name": "Python 3",
   "language": "python",
   "name": "python3"
  },
  "language_info": {
   "codemirror_mode": {
    "name": "ipython",
    "version": 3
   },
   "file_extension": ".py",
   "mimetype": "text/x-python",
   "name": "python",
   "nbconvert_exporter": "python",
   "pygments_lexer": "ipython3",
   "version": "3.11.4"
  },
  "orig_nbformat": 4
 },
 "nbformat": 4,
 "nbformat_minor": 2
}
